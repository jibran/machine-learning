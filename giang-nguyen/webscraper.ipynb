{
 "cells": [
  {
   "metadata": {},
   "cell_type": "markdown",
   "source": [
    "# Exercise 1\n",
    "### Giang Nguyen - Student ID `101593014`\n",
    "\n",
    "> Creating a Python script to enable web scraping of an url\n",
    "\n",
    "___\n",
    "\n",
    "## Step 1: Import libs and get URL from user's input"
   ],
   "id": "f85fe2e702e72e3d"
  },
  {
   "metadata": {
    "collapsed": true,
    "ExecuteTime": {
     "end_time": "2025-09-05T00:18:57.244240Z",
     "start_time": "2025-09-05T00:18:51.431571Z"
    }
   },
   "cell_type": "code",
   "source": [
    "import os\n",
    "import re\n",
    "import requests\n",
    "from bs4 import BeautifulSoup\n",
    "\n",
    "# Example: https://jasoncmcbride.medium.com/how-to-create-a-life-you-love-0750e852475a\n",
    "# Example: https://edition.cnn.com/travel/hagia-sophia-istanbul-history-secrets\n",
    "\n",
    "url = \"\"\n",
    "while not re.match(\"^https?://.*\", url):\n",
    "    url = input(\"Enter web URL: \")\n",
    "    # If URL is not valid, then try again until a valid URL is provided"
   ],
   "id": "9f35de8a0214382b",
   "outputs": [],
   "execution_count": 1
  },
  {
   "metadata": {},
   "cell_type": "markdown",
   "source": [
    "___\n",
    "## Step 2: Load HTML text and analyze by BS4\n",
    "HTTP exceptions will be handled in case of connectivity failure"
   ],
   "id": "ac0e8046d91c0676"
  },
  {
   "metadata": {
    "ExecuteTime": {
     "end_time": "2025-09-05T00:19:06.530771Z",
     "start_time": "2025-09-05T00:19:05.056094Z"
    }
   },
   "cell_type": "code",
   "source": [
    "try:\n",
    "    html = requests.get(url).text\n",
    "except Exception as e:\n",
    "    print(\"Inaccessible or invalid URL\\n\", e)\n",
    "    exit(1)\n",
    "doc = BeautifulSoup(html, \"html.parser\", preserve_whitespace_tags=[\"div\", \"section\", \"p\", \"span\"])\n",
    "doc = BeautifulSoup(doc.prettify(), \"html.parser\")"
   ],
   "id": "ee555ee2509ee1d5",
   "outputs": [],
   "execution_count": 2
  },
  {
   "metadata": {},
   "cell_type": "markdown",
   "source": [
    "___\n",
    "## Step 3: Refine HTML and text content\n",
    "Sub-processes:\n",
    "1. Remove irrelevant elements, i.e `<nav>`, `<header>`\n",
    "2. Read elements into lines of text\n",
    "3. Break the process if there's no text line is read"
   ],
   "id": "d903ce59789e3ec0"
  },
  {
   "metadata": {
    "ExecuteTime": {
     "end_time": "2025-09-05T00:19:08.632075Z",
     "start_time": "2025-09-05T00:19:08.618003Z"
    }
   },
   "cell_type": "code",
   "source": [
    "for el in doc.find_all(\"header\") + doc.find_all(\"script\") + doc.find_all(\"nav\") + doc.find_all(\"footer\") + doc.find_all(\"nav\"):\n",
    "    el.decompose()\n",
    "\n",
    "lines = doc.get_text(separator=\"\\n\", strip=True).splitlines()\n",
    "\n",
    "if len(lines) <= 0:\n",
    "    print(\"No content found\")\n",
    "    exit(1)\n",
    "\n",
    "filecontent = \"\\n\\r\".join(lines)"
   ],
   "id": "1419424bc24637e8",
   "outputs": [],
   "execution_count": 3
  },
  {
   "metadata": {},
   "cell_type": "markdown",
   "source": [
    "___\n",
    "## Step 4: Save to file\n",
    "File name is the text content extracted from `<title>` tag. File will be removed if exists before the `write` process."
   ],
   "id": "fcc678b48ad1f3ae"
  },
  {
   "metadata": {
    "ExecuteTime": {
     "end_time": "2025-09-05T00:19:13.527591Z",
     "start_time": "2025-09-05T00:19:13.515063Z"
    }
   },
   "cell_type": "code",
   "source": [
    "filename = re.sub(r'[^a-zA-Z0-9()\\',_\\-\\s]', \"\", doc.title.string.strip()) + \".txt\"\n",
    "if filename == \".txt\":\n",
    "    filename = \"extracted_document.txt\"\n",
    "if len(filename) >= 150:\n",
    "    filename = filename[:150] + \".txt\"\n",
    "if os.path.exists(filename):\n",
    "    os.remove(filename)\n",
    "\n",
    "with open(filename, \"w\", encoding=\"utf-8\") as file:\n",
    "    file.write(filecontent)\n",
    "    file.flush()\n",
    "    file.close()\n",
    "    print(\"Saved content to file: \", filename)"
   ],
   "id": "57a05b003ca12bc6",
   "outputs": [
    {
     "name": "stdout",
     "output_type": "stream",
     "text": [
      "Saved content to file:  Hagia Sophia Secrets of the 1,600-year-old megastructure that has survived the collapse of empires  CNN.txt\n"
     ]
    }
   ],
   "execution_count": 4
  }
 ],
 "metadata": {
  "kernelspec": {
   "display_name": "Python 3",
   "language": "python",
   "name": "python3"
  },
  "language_info": {
   "codemirror_mode": {
    "name": "ipython",
    "version": 2
   },
   "file_extension": ".py",
   "mimetype": "text/x-python",
   "name": "python",
   "nbconvert_exporter": "python",
   "pygments_lexer": "ipython2",
   "version": "2.7.6"
  }
 },
 "nbformat": 4,
 "nbformat_minor": 5
}
